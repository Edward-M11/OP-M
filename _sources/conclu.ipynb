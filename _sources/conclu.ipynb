{
 "cells": [
  {
   "cell_type": "markdown",
   "metadata": {},
   "source": [
    "# Conclusiones\n",
    "\n",
    "Este proyecto ha representado una inmersión profunda en el fascinante mundo de las Máquinas de Vectores de Soporte, revelando la versatilidad y eficacia de esta técnica en la resolución de problemas de clasificación. Al abordar tanto problemas separables como no separables mediante diversas formulaciones y métodos, hemos explorado exhaustivamente las capacidades de las SVM en la clasificación de conjuntos de datos, proporcionando la comprensión detallada de su comportamiento en diversos escenarios. La combinación de enfoques convencionales y avanzados ha enriquecido nuestra comprensión de las SVM, sentando así las bases para futuras exploraciones en este emocionante campo de investigación.\n",
    "\n",
    "Los resultados obtenidos en las diferentes secciones destacan la sensibilidad de las SVM a parámetros clave, como C y la elección del kernel. La variación en la precisión de la clasificación y el número de vectores de soporte resalta la importancia de una calibración adecuada de estos parámetros para lograr un rendimiento óptimo, así como la consideración de la dimensionalidad de los datos.\n",
    "\n",
    "Asimismo, la implementación de métodos avanzados, como el de restricciones activas y el de puntos interiores, ha proporcionado perspectivas adicionales sobre la resolución de problemas con SVM, ofreciendo alternativas eficaces y eficientes en comparación con los enfoques más convencionales.\n"
   ]
  },
  {
   "cell_type": "markdown",
   "metadata": {},
   "source": [
    "# Referencias\n",
    "\n",
    "- [Kernel Approximation - scikit-learn](https://scikit-learn.org/stable/modules/kernel_approximation.html#kernel-approximation)\n",
    "- [Cross-validation: evaluating estimator performance - scikit-learn](https://scikit-learn.org/stable/modules/cross_validation.html#cross-validation)\n",
    "- [La Búsqueda de Hiperparámetros - The Machine Learners](https://www.themachinelearners.com/busqueda-hiperparametros/)\n",
    "- [The Kernel Trick - Towards Data Science](https://towardsdatascience.com/the-kernel-trick-c98cdbcaeb3f)\n",
    "- [Machine Learning: Máquinas de Soporte Vectorial SVM - GitHub](https://github.com/DavidReveloLuna/Machine-Learning/blob/master/3_5_M%C3%A1quinas_de_Soporte_Vectorial_SVM.ipynb)\n"
   ]
  }
 ],
 "metadata": {
  "language_info": {
   "name": "python"
  }
 },
 "nbformat": 4,
 "nbformat_minor": 2
}
